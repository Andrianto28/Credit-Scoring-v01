{
 "cells": [
  {
   "cell_type": "code",
   "execution_count": 1,
   "id": "0fc5a00a",
   "metadata": {},
   "outputs": [],
   "source": [
    "from webdriver_manager.chrome import ChromeDriverManager\n",
    "from selenium import webdriver\n",
    "from selenium.webdriver.chrome.service import Service as ChromeService\n",
    "from selenium.webdriver.common.by import By\n",
    "from selenium.webdriver.chrome.options import Options\n",
    "import re\n",
    "\n",
    "from linkedin_scraper import Person, actions, Company\n",
    "import pandas as pd\n",
    "\n",
    "options = Options()\n",
    "options.add_argument('--headless')"
   ]
  },
  {
   "cell_type": "code",
   "execution_count": 2,
   "id": "0df809e1",
   "metadata": {},
   "outputs": [],
   "source": [
    "#Buat user & pass bot\n",
    "LINKEDIN_USER = \"2010511036@mahasiswa.upnvj.ac.id\"\n",
    "LINKEDIN_PASS = \"Bimoli216\""
   ]
  },
  {
   "cell_type": "code",
   "execution_count": 3,
   "id": "90d6cc13",
   "metadata": {},
   "outputs": [],
   "source": [
    "# read target users from csv\n",
    "target_users = pd.read_csv(\"users.csv\")[\"user\"].head(5).tolist()"
   ]
  },
  {
   "cell_type": "code",
   "execution_count": 5,
   "id": "71ddd526",
   "metadata": {},
   "outputs": [
    {
     "name": "stderr",
     "output_type": "stream",
     "text": [
      "[WDM] - Current google-chrome version is 111.0.5563\n",
      "[WDM] - Get LATEST driver version for 111.0.5563\n",
      "[WDM] - Driver [C:\\Users\\RanggaSaputra\\.wdm\\drivers\\chromedriver\\win32\\111.0.5563.64\\chromedriver.exe] found in cache\n"
     ]
    },
    {
     "name": "stdout",
     "output_type": "stream",
     "text": [
      " \n",
      "0: Muhammad Bagus Adi Prayoga (He/Him)\n",
      "1: Ananda Rizky Pratama (He/Him)\n",
      "2: Muhammad Novendra Aditya Nugraha\n",
      "3: Abdullah Taqiyyan\n",
      "4: Muhamad Eko Febriansyah\n"
     ]
    }
   ],
   "source": [
    "person_list = []\n",
    "\n",
    "driver = webdriver.Chrome(ChromeDriverManager().install(), options=options)\n",
    "\n",
    "actions.login(driver,LINKEDIN_USER,LINKEDIN_PASS)\n",
    "\n",
    "for user in range(len(target_users)):\n",
    "    if user == len(target_users)-1:\n",
    "        person = Person(target_users[user], driver=driver)\n",
    "    else:\n",
    "        person = Person(target_users[user], driver=driver, close_on_complete=False)\n",
    "    \n",
    "    profile = ({\n",
    "        'name': person.name,\n",
    "        'tempat_bekerja': person.experiences[0].institution_name,\n",
    "        'posisi_bekerja': person.experiences[0].position_title,\n",
    "        'durasi_bekerja': person.experiences[0].duration,\n",
    "        'pendidikan_terakhir': person.educations[0].institution_name,\n",
    "        'degree': person.educations[0].degree,\n",
    "    })\n",
    "    \n",
    "    print(str(user) + \": \" + person.name)\n",
    "    person_list.append(profile)"
   ]
  },
  {
   "cell_type": "code",
   "execution_count": 6,
   "id": "aa06a5b7",
   "metadata": {},
   "outputs": [
    {
     "data": {
      "text/html": [
       "<div>\n",
       "<style scoped>\n",
       "    .dataframe tbody tr th:only-of-type {\n",
       "        vertical-align: middle;\n",
       "    }\n",
       "\n",
       "    .dataframe tbody tr th {\n",
       "        vertical-align: top;\n",
       "    }\n",
       "\n",
       "    .dataframe thead th {\n",
       "        text-align: right;\n",
       "    }\n",
       "</style>\n",
       "<table border=\"1\" class=\"dataframe\">\n",
       "  <thead>\n",
       "    <tr style=\"text-align: right;\">\n",
       "      <th></th>\n",
       "      <th>name</th>\n",
       "      <th>tempat_bekerja</th>\n",
       "      <th>posisi_bekerja</th>\n",
       "      <th>durasi_bekerja</th>\n",
       "      <th>pendidikan_terakhir</th>\n",
       "      <th>degree</th>\n",
       "    </tr>\n",
       "  </thead>\n",
       "  <tbody>\n",
       "    <tr>\n",
       "      <th>0</th>\n",
       "      <td>Muhammad Bagus Adi Prayoga (He/Him)</td>\n",
       "      <td>M-Knows Consulting</td>\n",
       "      <td>AI Programmer &amp; Data Science</td>\n",
       "      <td>2 bln</td>\n",
       "      <td>Politeknik Negeri Semarang</td>\n",
       "      <td>Bachelor of Applied Science - BASc, Computer E...</td>\n",
       "    </tr>\n",
       "    <tr>\n",
       "      <th>1</th>\n",
       "      <td>Ananda Rizky Pratama (He/Him)</td>\n",
       "      <td>Kontrak 6 bln</td>\n",
       "      <td>Inspection Engineer - Mechanical Static Equipment</td>\n",
       "      <td>3 bln</td>\n",
       "      <td>Politeknik Negeri Semarang</td>\n",
       "      <td>Bachelor of Applied Science - BASc, Mechanical...</td>\n",
       "    </tr>\n",
       "    <tr>\n",
       "      <th>2</th>\n",
       "      <td>Muhammad Novendra Aditya Nugraha</td>\n",
       "      <td>PT PLN (Persero) · Magang</td>\n",
       "      <td>Internship Trainee</td>\n",
       "      <td>6 bln</td>\n",
       "      <td>Politeknik Negeri Semarang</td>\n",
       "      <td>Associate's degree, Electrical Engineering</td>\n",
       "    </tr>\n",
       "    <tr>\n",
       "      <th>3</th>\n",
       "      <td>Abdullah Taqiyyan</td>\n",
       "      <td>PT. Riung Mitra Lestari · Purnawaktu</td>\n",
       "      <td>FGDP Supply Chain Management</td>\n",
       "      <td>2 bln</td>\n",
       "      <td>Politeknik Negeri Semarang</td>\n",
       "      <td>Bachelor's degree, Mechanical Engineer</td>\n",
       "    </tr>\n",
       "    <tr>\n",
       "      <th>4</th>\n",
       "      <td>Muhamad Eko Febriansyah</td>\n",
       "      <td>PT Yamaha Motor RnD Indonesia · Purnawaktu</td>\n",
       "      <td>Body Design Engineer</td>\n",
       "      <td>7 bln</td>\n",
       "      <td>Politeknik Negeri Semarang</td>\n",
       "      <td>Bachelor of Applied Science - BASc, Mechanical...</td>\n",
       "    </tr>\n",
       "  </tbody>\n",
       "</table>\n",
       "</div>"
      ],
      "text/plain": [
       "                                  name  \\\n",
       "0  Muhammad Bagus Adi Prayoga (He/Him)   \n",
       "1        Ananda Rizky Pratama (He/Him)   \n",
       "2     Muhammad Novendra Aditya Nugraha   \n",
       "3                    Abdullah Taqiyyan   \n",
       "4              Muhamad Eko Febriansyah   \n",
       "\n",
       "                               tempat_bekerja  \\\n",
       "0                          M-Knows Consulting   \n",
       "1                               Kontrak 6 bln   \n",
       "2                   PT PLN (Persero) · Magang   \n",
       "3        PT. Riung Mitra Lestari · Purnawaktu   \n",
       "4  PT Yamaha Motor RnD Indonesia · Purnawaktu   \n",
       "\n",
       "                                      posisi_bekerja durasi_bekerja  \\\n",
       "0                       AI Programmer & Data Science          2 bln   \n",
       "1  Inspection Engineer - Mechanical Static Equipment          3 bln   \n",
       "2                                 Internship Trainee          6 bln   \n",
       "3                       FGDP Supply Chain Management          2 bln   \n",
       "4                               Body Design Engineer          7 bln   \n",
       "\n",
       "          pendidikan_terakhir  \\\n",
       "0  Politeknik Negeri Semarang   \n",
       "1  Politeknik Negeri Semarang   \n",
       "2  Politeknik Negeri Semarang   \n",
       "3  Politeknik Negeri Semarang   \n",
       "4  Politeknik Negeri Semarang   \n",
       "\n",
       "                                              degree  \n",
       "0  Bachelor of Applied Science - BASc, Computer E...  \n",
       "1  Bachelor of Applied Science - BASc, Mechanical...  \n",
       "2         Associate's degree, Electrical Engineering  \n",
       "3             Bachelor's degree, Mechanical Engineer  \n",
       "4  Bachelor of Applied Science - BASc, Mechanical...  "
      ]
     },
     "execution_count": 6,
     "metadata": {},
     "output_type": "execute_result"
    }
   ],
   "source": [
    "df_person = pd.DataFrame(person_list)\n",
    "df_person"
   ]
  },
  {
   "cell_type": "code",
   "execution_count": 7,
   "id": "0432ef01",
   "metadata": {},
   "outputs": [],
   "source": [
    "base_url = \"https://www.linkedin.com/company/\"\n",
    "\n",
    "companies = [\n",
    "    \"pt--tokopedia\",\n",
    "    \"shopee\",\n",
    "    \"gojek\",\n",
    "    \"gotogroup\",\n",
    "    \"flip.id\",\n",
    "    \"grabapp\",\n",
    "    \"dana-indonesia\",\n",
    "    \"m-knows-consulting\",\n",
    "]"
   ]
  },
  {
   "cell_type": "code",
   "execution_count": 12,
   "id": "d3b528de",
   "metadata": {},
   "outputs": [
    {
     "name": "stderr",
     "output_type": "stream",
     "text": [
      "[WDM] - Current google-chrome version is 111.0.5563\n",
      "[WDM] - Get LATEST driver version for 111.0.5563\n",
      "[WDM] - Driver [C:\\Users\\RanggaSaputra\\.wdm\\drivers\\chromedriver\\win32\\111.0.5563.64\\chromedriver.exe] found in cache\n"
     ]
    },
    {
     "name": "stdout",
     "output_type": "stream",
     "text": [
      " \n",
      "<selenium.webdriver.remote.webelement.WebElement (session=\"692694896cb220b2d9f585f3ffa87a25\", element=\"2dddcc40-b413-4b53-9ee7-b1d8891a4d84\")>\n",
      "0: Tokopedia\n",
      "<selenium.webdriver.remote.webelement.WebElement (session=\"692694896cb220b2d9f585f3ffa87a25\", element=\"f590f2b5-42f3-4f94-a1d1-10fea6d5dc6e\")>\n",
      "1: Shopee\n",
      "<selenium.webdriver.remote.webelement.WebElement (session=\"692694896cb220b2d9f585f3ffa87a25\", element=\"c390b534-fe11-499a-a793-c2168f01df18\")>\n",
      "2: Gojek\n"
     ]
    }
   ],
   "source": [
    "company_list = []\n",
    "\n",
    "driver = webdriver.Chrome(ChromeDriverManager().install(),\n",
    "                        options=options\n",
    "                        )\n",
    "\n",
    "actions.login(driver,LINKEDIN_USER,LINKEDIN_PASS)\n",
    "\n",
    "for i in range(3):\n",
    "    if i == len(companies)-1:\n",
    "        company = Company(base_url + companies[i], driver=driver, get_employees=False)\n",
    "    else:\n",
    "        company = Company(base_url + companies[i], driver=driver, close_on_complete=False, get_employees=False)\n",
    "    \n",
    "    specialties = str(company.specialties).replace(\"\\n\", \", \")\n",
    "    \n",
    "    profile = ({\n",
    "        'name': company.name,\n",
    "        'about': company.about_us,\n",
    "        'website': company.website,\n",
    "        'headquarters': company.headquarters,\n",
    "        'founded': company.founded,\n",
    "        'industry': company.industry,\n",
    "        'company_size': company.company_size,\n",
    "        'specialties': specialties,\n",
    "    })\n",
    "    \n",
    "    print(str(i) + \": \" + company.name)\n",
    "    company_list.append(profile)"
   ]
  },
  {
   "cell_type": "code",
   "execution_count": 13,
   "id": "028ded5e",
   "metadata": {},
   "outputs": [
    {
     "data": {
      "text/html": [
       "<div>\n",
       "<style scoped>\n",
       "    .dataframe tbody tr th:only-of-type {\n",
       "        vertical-align: middle;\n",
       "    }\n",
       "\n",
       "    .dataframe tbody tr th {\n",
       "        vertical-align: top;\n",
       "    }\n",
       "\n",
       "    .dataframe thead th {\n",
       "        text-align: right;\n",
       "    }\n",
       "</style>\n",
       "<table border=\"1\" class=\"dataframe\">\n",
       "  <thead>\n",
       "    <tr style=\"text-align: right;\">\n",
       "      <th></th>\n",
       "      <th>name</th>\n",
       "      <th>about</th>\n",
       "      <th>website</th>\n",
       "      <th>headquarters</th>\n",
       "      <th>founded</th>\n",
       "      <th>industry</th>\n",
       "      <th>company_size</th>\n",
       "      <th>specialties</th>\n",
       "    </tr>\n",
       "  </thead>\n",
       "  <tbody>\n",
       "    <tr>\n",
       "      <th>0</th>\n",
       "      <td>Tokopedia</td>\n",
       "      <td>Tokopedia is an Indonesian technology company ...</td>\n",
       "      <td>http://www.tokopedia.com/careers</td>\n",
       "      <td>Jakarta Selatan, DKI Jakarta</td>\n",
       "      <td>2009</td>\n",
       "      <td>Technology, Information and Internet</td>\n",
       "      <td>5,001-10,000 employees</td>\n",
       "      <td>Internet, E-commerce, Marketplace, Customer to...</td>\n",
       "    </tr>\n",
       "    <tr>\n",
       "      <th>1</th>\n",
       "      <td>Shopee</td>\n",
       "      <td>Shopee is the leading e-commerce platform in S...</td>\n",
       "      <td>http://careers.shopee.com/</td>\n",
       "      <td>Singapore, Singapore</td>\n",
       "      <td>None</td>\n",
       "      <td>Technology, Information and Internet</td>\n",
       "      <td>5,001-10,000 employees</td>\n",
       "      <td>Internet and Mobile Commerce</td>\n",
       "    </tr>\n",
       "    <tr>\n",
       "      <th>2</th>\n",
       "      <td>Gojek</td>\n",
       "      <td>Gojek is Southeast Asia’s leading on-demand pl...</td>\n",
       "      <td>https://www.gojek.io/careers</td>\n",
       "      <td>Jakarta, DKI Jakarta</td>\n",
       "      <td>2010</td>\n",
       "      <td>Technology, Information and Internet</td>\n",
       "      <td>1,001-5,000 employees</td>\n",
       "      <td>Transport Service, Instant Courier, Shopping a...</td>\n",
       "    </tr>\n",
       "  </tbody>\n",
       "</table>\n",
       "</div>"
      ],
      "text/plain": [
       "        name                                              about  \\\n",
       "0  Tokopedia  Tokopedia is an Indonesian technology company ...   \n",
       "1     Shopee  Shopee is the leading e-commerce platform in S...   \n",
       "2      Gojek  Gojek is Southeast Asia’s leading on-demand pl...   \n",
       "\n",
       "                            website                  headquarters founded  \\\n",
       "0  http://www.tokopedia.com/careers  Jakarta Selatan, DKI Jakarta    2009   \n",
       "1        http://careers.shopee.com/          Singapore, Singapore    None   \n",
       "2      https://www.gojek.io/careers          Jakarta, DKI Jakarta    2010   \n",
       "\n",
       "                               industry            company_size  \\\n",
       "0  Technology, Information and Internet  5,001-10,000 employees   \n",
       "1  Technology, Information and Internet  5,001-10,000 employees   \n",
       "2  Technology, Information and Internet   1,001-5,000 employees   \n",
       "\n",
       "                                         specialties  \n",
       "0  Internet, E-commerce, Marketplace, Customer to...  \n",
       "1                       Internet and Mobile Commerce  \n",
       "2  Transport Service, Instant Courier, Shopping a...  "
      ]
     },
     "execution_count": 13,
     "metadata": {},
     "output_type": "execute_result"
    }
   ],
   "source": [
    "df_company = pd.DataFrame(company_list)\n",
    "df_company"
   ]
  },
  {
   "cell_type": "code",
   "execution_count": null,
   "id": "c015b0d5",
   "metadata": {},
   "outputs": [],
   "source": []
  }
 ],
 "metadata": {
  "kernelspec": {
   "display_name": "Python 3 (ipykernel)",
   "language": "python",
   "name": "python3"
  },
  "language_info": {
   "codemirror_mode": {
    "name": "ipython",
    "version": 3
   },
   "file_extension": ".py",
   "mimetype": "text/x-python",
   "name": "python",
   "nbconvert_exporter": "python",
   "pygments_lexer": "ipython3",
   "version": "3.10.7"
  },
  "varInspector": {
   "cols": {
    "lenName": 16,
    "lenType": 16,
    "lenVar": 40
   },
   "kernels_config": {
    "python": {
     "delete_cmd_postfix": "",
     "delete_cmd_prefix": "del ",
     "library": "var_list.py",
     "varRefreshCmd": "print(var_dic_list())"
    },
    "r": {
     "delete_cmd_postfix": ") ",
     "delete_cmd_prefix": "rm(",
     "library": "var_list.r",
     "varRefreshCmd": "cat(var_dic_list()) "
    }
   },
   "types_to_exclude": [
    "module",
    "function",
    "builtin_function_or_method",
    "instance",
    "_Feature"
   ],
   "window_display": false
  }
 },
 "nbformat": 4,
 "nbformat_minor": 5
}
